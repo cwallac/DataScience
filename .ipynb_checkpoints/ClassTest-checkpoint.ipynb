{
 "metadata": {
  "name": "",
  "signature": "sha256:dcb17c5a5cb40bd3449c2f7000088d5952137c5908603248135bb8d4e97199c7"
 },
 "nbformat": 3,
 "nbformat_minor": 0,
 "worksheets": []
}