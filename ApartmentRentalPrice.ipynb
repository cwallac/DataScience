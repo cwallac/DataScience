{
 "metadata": {
  "name": "",
  "signature": "sha256:9bb51330f1a771a793b21406f055bc3b4e619c469f2e23912b7b557e4b3423ea"
 },
 "nbformat": 3,
 "nbformat_minor": 0,
 "worksheets": [
  {
   "cells": [
    {
     "cell_type": "code",
     "collapsed": false,
     "input": [
      "import thinkstats2\n",
      "import thinkplot\n",
      "import numpy as np"
     ],
     "language": "python",
     "metadata": {},
     "outputs": [],
     "prompt_number": 4
    },
    {
     "cell_type": "code",
     "collapsed": false,
     "input": [
      "cdf = thinkstats2.Cdf()"
     ],
     "language": "python",
     "metadata": {},
     "outputs": [],
     "prompt_number": 5
    },
    {
     "cell_type": "code",
     "collapsed": false,
     "input": [
      "cdf.xs = np.asarray([10000,14999,24999,34999,49999,74999,99999,149999,199999,250000])\n",
      "percentage = [7.6,13.0,23.8,34.1,47.7,65.6,77.5,90.2,95.1,100]\n",
      "percentage = [x/100 for x in percentage]\n",
      "cdf.ps = np.asarray(percentage)\n"
     ],
     "language": "python",
     "metadata": {},
     "outputs": [],
     "prompt_number": 27
    },
    {
     "cell_type": "code",
     "collapsed": false,
     "input": [
      "\n"
     ],
     "language": "python",
     "metadata": {},
     "outputs": [],
     "prompt_number": 6
    },
    {
     "cell_type": "code",
     "collapsed": false,
     "input": [
      "import pandas as p"
     ],
     "language": "python",
     "metadata": {},
     "outputs": [],
     "prompt_number": 23
    },
    {
     "cell_type": "code",
     "collapsed": false,
     "input": [
      "rentDf = p.DataFrame.from_csv(\"apartments.csv\")\n",
      "rent = rentDf.RENT\n",
      "income = rent*40\n",
      "rentCdf = thinkstats2.Cdf(income)\n",
      "thinkplot.cdf(rentCdf,label=\"Income to Own Apartment\")\n",
      "thinkplot.Cdf(cdf,label=\"Household Income\")\n",
      "thinkplot.Config(xlim=[0,260000],title=\"Income Distribution vs Apartment Rental\",xlabel=\"Income Per Year\",Legend=True,ylabel=\"Percentage\")\n",
      "\n",
      "thinkplot.show()\n"
     ],
     "language": "python",
     "metadata": {},
     "outputs": [
      {
       "metadata": {},
       "output_type": "display_data",
       "png": "[encoded data removed]",
       "text": [
        "<matplotlib.figure.Figure at 0xb702978>"
       ]
      },
      {
       "metadata": {},
       "output_type": "display_data",
       "text": [
        "<matplotlib.figure.Figure at 0xb702a58>"
       ]
      }
     ],
     "prompt_number": 28
    },
    {
     "cell_type": "code",
     "collapsed": false,
     "input": [
      "forRent = len(income)\n",
      "forRent\n",
      "HouseholdSample = cdf.Sample(3402)"
     ],
     "language": "python",
     "metadata": {},
     "outputs": [],
     "prompt_number": 32
    },
    {
     "cell_type": "code",
     "collapsed": false,
     "input": [
      "\n",
      "\n",
      "\n",
      "\n",
      "    "
     ],
     "language": "python",
     "metadata": {},
     "outputs": [],
     "prompt_number": 30
    },
    {
     "cell_type": "code",
     "collapsed": false,
     "input": [],
     "language": "python",
     "metadata": {},
     "outputs": []
    }
   ],
   "metadata": {}
  }
 ]
}