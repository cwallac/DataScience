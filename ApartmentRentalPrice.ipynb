{
 "metadata": {
  "name": "",
  "signature": "sha256:636fe77fc31c60fc0c2e244278a1dc3d495dfb29117deb0d75fc54df0920db80"
 },
 "nbformat": 3,
 "nbformat_minor": 0,
 "worksheets": [
  {
   "cells": [
    {
     "cell_type": "code",
     "collapsed": false,
     "input": [
      "import thinkstats2\n",
      "import thinkplot\n",
      "import numpy as np"
     ],
     "language": "python",
     "metadata": {},
     "outputs": [],
     "prompt_number": 1
    },
    {
     "cell_type": "code",
     "collapsed": false,
     "input": [
      "cdf = thinkstats2.Cdf()"
     ],
     "language": "python",
     "metadata": {},
     "outputs": [],
     "prompt_number": 2
    },
    {
     "cell_type": "code",
     "collapsed": false,
     "input": [
      "cdf.xs = np.asarray([10000,14999,24999,34999,49999,74999,99999,149999,199999,250000])\n",
      "percentage = [7.6,13.0,23.8,34.1,47.7,65.6,77.5,90.2,95.1,100]\n",
      "percentage = [x/100 for x in percentage]\n",
      "cdf.ps = np.asarray(percentage)\n"
     ],
     "language": "python",
     "metadata": {},
     "outputs": [],
     "prompt_number": 3
    },
    {
     "cell_type": "code",
     "collapsed": false,
     "input": [
      "\n"
     ],
     "language": "python",
     "metadata": {},
     "outputs": [],
     "prompt_number": 3
    },
    {
     "cell_type": "code",
     "collapsed": false,
     "input": [
      "import pandas as p"
     ],
     "language": "python",
     "metadata": {},
     "outputs": [],
     "prompt_number": 4
    },
    {
     "cell_type": "code",
     "collapsed": false,
     "input": [
      "rentDf = p.DataFrame.from_csv(\"apartments.csv\")\n",
      "rent = rentDf.RENT\n",
      "income = rent*40\n",
      "rentCdf = thinkstats2.Cdf(income)\n",
      "thinkplot.cdf(rentCdf,label=\"Income to Own Apartment\")\n",
      "thinkplot.Cdf(cdf,label=\"Household Income\")\n",
      "thinkplot.Config(xlim=[0,260000],title=\"Income Distribution vs Apartment Rental\",xlabel=\"Income Per Year\",Legend=True,ylabel=\"Percentage\")\n",
      "\n",
      "thinkplot.show()\n"
     ],
     "language": "python",
     "metadata": {},
     "outputs": [
      {
       "metadata": {},
       "output_type": "display_data",
       "png": "[encoded data removed]",
       "text": [
        "<matplotlib.figure.Figure at 0xb66e470>"
       ]
      },
      {
       "metadata": {},
       "output_type": "display_data",
       "text": [
        "<matplotlib.figure.Figure at 0x16e15f60>"
       ]
      }
     ],
     "prompt_number": 5
    },
    {
     "cell_type": "code",
     "collapsed": false,
     "input": [
      "forRent = len(income)\n",
      "forRent\n",
      "HouseholdSample = cdf.Sample(3402)"
     ],
     "language": "python",
     "metadata": {},
     "outputs": [],
     "prompt_number": 6
    },
    {
     "cell_type": "code",
     "collapsed": false,
     "input": [
      "import numpy as np\n",
      "sortedIncome = list(reversed(sorted(HouseholdSample)))\n",
      "sortedApartment = list(reversed(sorted(income/40*12)))\n",
      "ratios = []\n",
      "for i in range(len(sortedApartment)):\n",
      "    ratios.append(sortedApartment[i]/sortedIncome[i])\n",
      "#print sortedIncome    \n",
      "ratioCdf = thinkstats2.Cdf(ratios)\n",
      "thinkplot.Cdf(ratioCdf)\n",
      "array = np.array([sortedApartment,sortedIncome,ratios])\n",
      "array = np.ndarray.transpose(array)\n",
      "incomeDf = p.DataFrame(array,columns=[\"ApartmentRentalPrice\",\"HouseholdIncome\",\"Ratio\"])\n",
      "\n",
      "\n",
      "    "
     ],
     "language": "python",
     "metadata": {},
     "outputs": [
      {
       "metadata": {},
       "output_type": "display_data",
       "png": "[encoded data removed]",
       "text": [
        "<matplotlib.figure.Figure at 0x99636d8>"
       ]
      }
     ],
     "prompt_number": 7
    },
    {
     "cell_type": "code",
     "collapsed": false,
     "input": [
      "incomeBrackets = [10000,14999,24999,34999,49999,74999,99999,149999,199999,250000]\n"
     ],
     "language": "python",
     "metadata": {},
     "outputs": [],
     "prompt_number": 11
    },
    {
     "cell_type": "code",
     "collapsed": false,
     "input": [
      "incomeDf['Ratio'] = incomeDf['Ratio'].astype(np.float)\n",
      "ratios = [incomeDf[incomeDf.HouseholdIncome == 10000].Ratio.median(),incomeDf[incomeDf.HouseholdIncome == 14999].Ratio.median(),incomeDf[incomeDf.HouseholdIncome == 24999].Ratio.median(),incomeDf[incomeDf.HouseholdIncome == 34999].Ratio.median(),incomeDf[incomeDf.HouseholdIncome == 49999].Ratio.median(),incomeDf[incomeDf.HouseholdIncome == 74999].Ratio.median(),incomeDf[incomeDf.HouseholdIncome == 99999].Ratio.median(),incomeDf[incomeDf.HouseholdIncome == 149999].Ratio.median(),incomeDf[incomeDf.HouseholdIncome == 199999].Ratio.median(),incomeDf[incomeDf.HouseholdIncome == 250000].Ratio.median()]\n",
      "print ratios"
     ],
     "language": "python",
     "metadata": {},
     "outputs": [
      {
       "output_type": "stream",
       "stream": "stdout",
       "text": [
        "[1.4249999999999998, 1.1600773384892327, 0.7680307212288492, 0.6171604902997229, 0.5160103202064041, 0.41600554674062323, 0.3840038400384004, 0.3040020266801779, 0.28200141000705004, 0.27480000000000004]\n"
       ]
      }
     ],
     "prompt_number": 12
    },
    {
     "cell_type": "code",
     "collapsed": false,
     "input": [
      "\n",
      "#thinkplot.Cdf(midCdf)\n",
      "import matplotlib.pyplot as plt\n",
      "\n",
      "thinkplot.config(title=\"Income Distribution vs Apartment Rental\",xlabel=\"Income Per Year\",Legend=True,ylabel=\"Percentage\")\n",
      "plt.plot(incomeBrackets,ratios)"
     ],
     "language": "python",
     "metadata": {},
     "outputs": [
      {
       "output_type": "stream",
       "stream": "stderr",
       "text": [
        "C:\\Users\\cwallace\\AppData\\Local\\Continuum\\Anaconda\\lib\\site-packages\\matplotlib\\axes\\_axes.py:475: UserWarning: No labelled objects found. Use label='...' kwarg on individual plots.\n",
        "  warnings.warn(\"No labelled objects found. \"\n"
       ]
      },
      {
       "metadata": {},
       "output_type": "pyout",
       "prompt_number": 14,
       "text": [
        "[<matplotlib.lines.Line2D at 0x170febe0>]"
       ]
      },
      {
       "metadata": {},
       "output_type": "display_data",
       "png": "[encoded data removed]",
       "text": [
        "<matplotlib.figure.Figure at 0x170fed68>"
       ]
      }
     ],
     "prompt_number": 14
    },
    {
     "cell_type": "code",
     "collapsed": false,
     "input": [],
     "language": "python",
     "metadata": {},
     "outputs": []
    }
   ],
   "metadata": {}
  }
 ]
}